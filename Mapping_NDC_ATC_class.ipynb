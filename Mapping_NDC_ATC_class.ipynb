{
 "cells": [
  {
   "cell_type": "markdown",
   "metadata": {},
   "source": [
    "# Mapping NDC to ATC Drug Classes using RxNorm \n",
    "\n",
    "**RxNorm** : RxNorm provides normalized names for clinical drugs and links its names to many of the drug vocabularies commonly used in pharmacy management and drug interaction software, including those of First Databank, Micromedex, Multum, and Gold Standard Drug Database.\n",
    "\n",
    "*more more details please refer to* [RxNorm overview](https://www.nlm.nih.gov/research/umls/rxnorm/overview.html)\n",
    "\n",
    "**NDC** : The National Drug Code (NDC) is a unique idenifier which represent a drug's labeler, product, and package size and type. The NDC is required for pharmaceuticals dispensed from a pharmacy and physician-administered drugs in an office/clinic or outpatient facility/hospital setting. The curent NDC is 10 or 11 Digit. \n"
   ]
  },
  {
   "cell_type": "code",
   "execution_count": null,
   "metadata": {},
   "outputs": [],
   "source": []
  }
 ],
 "metadata": {
  "language_info": {
   "name": "python"
  }
 },
 "nbformat": 4,
 "nbformat_minor": 2
}
